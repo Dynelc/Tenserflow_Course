{
  "nbformat": 4,
  "nbformat_minor": 0,
  "metadata": {
    "colab": {
      "name": "fashion_mnist.ipynb",
      "provenance": [],
      "collapsed_sections": [],
      "authorship_tag": "ABX9TyM0sOzhUTH0BJFY9HiSxTf/",
      "include_colab_link": true
    },
    "kernelspec": {
      "display_name": "Python 3",
      "name": "python3"
    },
    "language_info": {
      "name": "python"
    }
  },
  "cells": [
    {
      "cell_type": "markdown",
      "metadata": {
        "id": "view-in-github",
        "colab_type": "text"
      },
      "source": [
        "<a href=\"https://colab.research.google.com/github/Dynelc/Tenserflow_Course/blob/main/fashion_mnist.ipynb\" target=\"_parent\"><img src=\"https://colab.research.google.com/assets/colab-badge.svg\" alt=\"Open In Colab\"/></a>"
      ]
    },
    {
      "cell_type": "code",
      "metadata": {
        "id": "JYBFk14rpg3K"
      },
      "source": [
        "import tensorflow as tf\n",
        "import numpy as np\n",
        "import pandas as pd\n",
        "import matplotlib.pyplot as plt\n",
        "import math"
      ],
      "execution_count": null,
      "outputs": []
    },
    {
      "cell_type": "code",
      "metadata": {
        "id": "uJQEcmmCq7Ut"
      },
      "source": [
        "fashion_mnist = tf.keras.datasets.fashion_mnist\n",
        "(train_images, train_labels), (test_images, test_labels) = fashion_mnist.load_data()"
      ],
      "execution_count": null,
      "outputs": []
    },
    {
      "cell_type": "code",
      "metadata": {
        "id": "ESlaLJWttoYE"
      },
      "source": [
        "cloth_class = ['T-shirt/top','Trouser','Pulover','Dress','Coat','Sandal','Shirt','Sneaker','Bag','Ankle boot']\n",
        "print(cloth_class)"
      ],
      "execution_count": null,
      "outputs": []
    },
    {
      "cell_type": "code",
      "metadata": {
        "id": "OEAcfsc1t8Gz"
      },
      "source": [
        "train_images.shape\n",
        "test_images.shape"
      ],
      "execution_count": null,
      "outputs": []
    },
    {
      "cell_type": "code",
      "metadata": {
        "id": "RcV2ethDvsqF"
      },
      "source": [
        "plt.figure(figsize=(10,10))\n",
        "for i in range(25):\n",
        "  image = train_images[i].reshape((28,28))\n",
        "  plt.subplot(5,5,i+1)\n",
        "  plt.imshow(image,cmap='gray')\n",
        "  plt.xticks([])\n",
        "  plt.yticks([])\n",
        "  plt.xlabel(cloth_class[train_labels[i]])\n",
        "  # plt.grid(False)"
      ],
      "execution_count": null,
      "outputs": []
    },
    {
      "cell_type": "code",
      "metadata": {
        "id": "XxNiA22w0tdz"
      },
      "source": [
        "def normalize(images):\n",
        "  return images/255\n"
      ],
      "execution_count": null,
      "outputs": []
    },
    {
      "cell_type": "code",
      "metadata": {
        "id": "MfCv8dK401cQ"
      },
      "source": [
        "train_images = normalize(train_images)\n",
        "test_images = normalize(test_images)"
      ],
      "execution_count": null,
      "outputs": []
    },
    {
      "cell_type": "code",
      "metadata": {
        "id": "nX0xJe1O1WDf"
      },
      "source": [
        "input_layer = tf.keras.layers.Flatten(input_shape=(28,28))\n",
        "hidden_layer = tf.keras.layers.Dense(units=128,activation = tf.nn.relu)\n",
        "output_layer = tf.keras.layers.Dense(units=10)"
      ],
      "execution_count": null,
      "outputs": []
    },
    {
      "cell_type": "code",
      "metadata": {
        "id": "qqXkRSij18Xc"
      },
      "source": [
        "model = tf.keras.Sequential([input_layer,hidden_layer,output_layer])"
      ],
      "execution_count": null,
      "outputs": []
    },
    {
      "cell_type": "code",
      "metadata": {
        "id": "DioHZkyV2EP3"
      },
      "source": [
        "model.compile(optimizer='adam',loss=tf.keras.losses.SparseCategoricalCrossentropy(from_logits=True),metrics=['accuracy'])"
      ],
      "execution_count": null,
      "outputs": []
    },
    {
      "cell_type": "code",
      "metadata": {
        "id": "AKLfmpX32kui"
      },
      "source": [
        "model.fit(train_images,train_labels,epochs=10)"
      ],
      "execution_count": null,
      "outputs": []
    },
    {
      "cell_type": "code",
      "metadata": {
        "id": "R3re9juO4IvM"
      },
      "source": [
        "test_loss, test_acc = model.evaluate(test_images,test_labels,verbose=2)"
      ],
      "execution_count": null,
      "outputs": []
    },
    {
      "cell_type": "code",
      "metadata": {
        "id": "535GxmFO4akg"
      },
      "source": [
        "probability_model = tf.keras.Sequential([model,tf.keras.layers.Softmax()])"
      ],
      "execution_count": null,
      "outputs": []
    },
    {
      "cell_type": "code",
      "metadata": {
        "id": "VR86FpNg4rqa"
      },
      "source": [
        "predictions = probability_model(test_images)"
      ],
      "execution_count": null,
      "outputs": []
    },
    {
      "cell_type": "code",
      "metadata": {
        "id": "eo_t8nsX4wcA"
      },
      "source": [
        "predictions[0]"
      ],
      "execution_count": null,
      "outputs": []
    },
    {
      "cell_type": "code",
      "metadata": {
        "id": "EBHwVgmy44zj"
      },
      "source": [
        "np.argmax(predictions[0])"
      ],
      "execution_count": null,
      "outputs": []
    },
    {
      "cell_type": "code",
      "metadata": {
        "id": "codfB_Cf5Jkj"
      },
      "source": [
        "test_labels[0]"
      ],
      "execution_count": null,
      "outputs": []
    },
    {
      "cell_type": "code",
      "metadata": {
        "id": "sk6mDzZb5JaK"
      },
      "source": [
        "def plot_image(image,label,prediction_array):\n",
        "  plt.imshow(image,cmap='gray')\n",
        "  plt.grid(False)\n",
        "  plt.xticks([])\n",
        "  plt.yticks([])\n",
        "  predicted_label = np.argmax(prediction_array)\n",
        "  if(label==predicted_label):\n",
        "    color='blue'\n",
        "  else:\n",
        "    color='red'\n",
        "  plt.xlabel(\"{} {:2.0f} ({})\".format(cloth_class[predicted_label],100*np.max(prediction_array),cloth_class[label]),color=color)\n",
        "\n",
        "def plot_bar_graph(label,prediction_array):\n",
        "  plt.grid(False)\n",
        "  plt.xticks(range(10))\n",
        "  plt.yticks([])\n",
        "  thisplot=plt.bar(range(10),prediction_array)\n",
        "  plt.ylim([0,1])\n",
        "  predicted_label = np.argmax(prediction_array)\n",
        "  thisplot[predicted_label].set_color('red')\n",
        "  thisplot[label].set_color('blue')"
      ],
      "execution_count": null,
      "outputs": []
    },
    {
      "cell_type": "code",
      "metadata": {
        "id": "GS6eftl859ta"
      },
      "source": [
        "i=0\n",
        "plt.figure(figsize=(6,3))\n",
        "plt.subplot(1,2,1)\n",
        "plot_image(test_images[i],test_labels[i],predictions[i])\n",
        "plt.subplot(1,2,2)\n",
        "plot_bar_graph(test_labels[i],predictions[i])\n",
        "plt.show()"
      ],
      "execution_count": null,
      "outputs": []
    },
    {
      "cell_type": "code",
      "metadata": {
        "id": "28nur9R6DEQC"
      },
      "source": [
        "num_rows = 5\n",
        "num_cols = 3\n",
        "num_images = num_rows*num_cols\n",
        "plt.figure(figsize=(2*2*num_cols, 2*num_rows))\n",
        "for i in range(num_images):\n",
        "  plt.subplot(num_rows, 2*num_cols, 2*i+1)\n",
        "  plot_image(test_images[i],test_labels[i],predictions[i])\n",
        "  plt.subplot(num_rows, 2*num_cols, 2*i+2)\n",
        "  plot_bar_graph(test_labels[i],predictions[i])\n",
        "plt.tight_layout()\n",
        "plt.show()"
      ],
      "execution_count": null,
      "outputs": []
    },
    {
      "cell_type": "code",
      "metadata": {
        "id": "9d9d1fnWF15f"
      },
      "source": [
        ""
      ],
      "execution_count": null,
      "outputs": []
    }
  ]
}