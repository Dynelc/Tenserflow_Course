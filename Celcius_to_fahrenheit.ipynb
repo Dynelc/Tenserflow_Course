{
  "nbformat": 4,
  "nbformat_minor": 0,
  "metadata": {
    "colab": {
      "name": "Celcius_Fahrenheit.ipynb",
      "provenance": [],
      "collapsed_sections": [],
      "authorship_tag": "ABX9TyM3TFx96kbgz5Xq0OVSTiaa",
      "include_colab_link": true
    },
    "kernelspec": {
      "name": "python3",
      "display_name": "Python 3"
    },
    "language_info": {
      "name": "python"
    },
    "accelerator": "GPU"
  },
  "cells": [
    {
      "cell_type": "markdown",
      "metadata": {
        "id": "view-in-github",
        "colab_type": "text"
      },
      "source": [
        "<a href=\"https://colab.research.google.com/github/Dynelc/Tenserflow_Course/blob/main/Celcius_to_fahrenheit.ipynb\" target=\"_parent\"><img src=\"https://colab.research.google.com/assets/colab-badge.svg\" alt=\"Open In Colab\"/></a>"
      ]
    },
    {
      "cell_type": "code",
      "metadata": {
        "id": "KONjT2seONll"
      },
      "source": [
        "import tensorflow as tf\n",
        "import numpy as np"
      ],
      "execution_count": 2,
      "outputs": []
    },
    {
      "cell_type": "code",
      "metadata": {
        "id": "u76HG5etOWOr"
      },
      "source": [
        "train_set = np.array([-40,-10,0,8,15,22,38],dtype='f')\n",
        "labels = np.array([-40,14,32,46,59,72,100],dtype='f')"
      ],
      "execution_count": 3,
      "outputs": []
    },
    {
      "cell_type": "code",
      "metadata": {
        "colab": {
          "base_uri": "https://localhost:8080/"
        },
        "id": "uorhnl3fO0At",
        "outputId": "3f385205-0e23-4e5f-b779-f8a9594bf77a"
      },
      "source": [
        "for i,c in enumerate(train_set):\n",
        "  print(\"{} degrees celcius = {} degrees Fahrenheit\".format(c,labels[i]))"
      ],
      "execution_count": 4,
      "outputs": [
        {
          "output_type": "stream",
          "text": [
            "-40.0 degrees celcius = -40.0 degrees Fahrenheit\n",
            "-10.0 degrees celcius = 14.0 degrees Fahrenheit\n",
            "0.0 degrees celcius = 32.0 degrees Fahrenheit\n",
            "8.0 degrees celcius = 46.0 degrees Fahrenheit\n",
            "15.0 degrees celcius = 59.0 degrees Fahrenheit\n",
            "22.0 degrees celcius = 72.0 degrees Fahrenheit\n",
            "38.0 degrees celcius = 100.0 degrees Fahrenheit\n"
          ],
          "name": "stdout"
        }
      ]
    },
    {
      "cell_type": "code",
      "metadata": {
        "id": "4EXTuJn1Poxp"
      },
      "source": [
        "model = tf.keras.Sequential([tf.keras.layers.Dense(units=1,input_shape=[1])])"
      ],
      "execution_count": 5,
      "outputs": []
    },
    {
      "cell_type": "code",
      "metadata": {
        "id": "nK4AldHAQvog"
      },
      "source": [
        "model.compile(loss='mean_squared_error',optimizer=tf.keras.optimizers.Adam(0.1))"
      ],
      "execution_count": 6,
      "outputs": []
    },
    {
      "cell_type": "code",
      "metadata": {
        "id": "nnZbHM7YQdCo"
      },
      "source": [
        "history = model.fit(train_set,labels,epochs = 1000)"
      ],
      "execution_count": null,
      "outputs": []
    },
    {
      "cell_type": "code",
      "metadata": {
        "id": "CFuymKuhSHY_"
      },
      "source": [
        "import matplotlib.pyplot as plt\n"
      ],
      "execution_count": 8,
      "outputs": []
    },
    {
      "cell_type": "code",
      "metadata": {
        "colab": {
          "base_uri": "https://localhost:8080/",
          "height": 314
        },
        "id": "f6q0XdpiSLOq",
        "outputId": "9cf7a490-bbdf-49e9-84d5-745a8b06ee0d"
      },
      "source": [
        "plt.xlabel('Number of Iterations')\n",
        "plt.ylabel('Cost J(Theta)')\n",
        "plt.title('Loss function plot')\n",
        "plt.plot(history.history['loss'])"
      ],
      "execution_count": 9,
      "outputs": [
        {
          "output_type": "execute_result",
          "data": {
            "text/plain": [
              "[<matplotlib.lines.Line2D at 0x7f589c257910>]"
            ]
          },
          "metadata": {
            "tags": []
          },
          "execution_count": 9
        },
        {
          "output_type": "display_data",
          "data": {
            "image/png": "[encoded data removed]",
            "text/plain": [
              "<Figure size 432x288 with 1 Axes>"
            ]
          },
          "metadata": {
            "tags": [],
            "needs_background": "light"
          }
        }
      ]
    },
    {
      "cell_type": "code",
      "metadata": {
        "colab": {
          "base_uri": "https://localhost:8080/"
        },
        "id": "TAB5MMo2T0bQ",
        "outputId": "8ad16ffe-effb-476d-c065-e83e0be056c1"
      },
      "source": [
        "print(model.predict([100.0]))"
      ],
      "execution_count": 10,
      "outputs": [
        {
          "output_type": "stream",
          "text": [
            "[[211.74002]]\n"
          ],
          "name": "stdout"
        }
      ]
    },
    {
      "cell_type": "code",
      "metadata": {
        "id": "EgiWnBx-Uqvk",
        "colab": {
          "base_uri": "https://localhost:8080/"
        },
        "outputId": "b9bd0990-cbde-4bc7-f70e-907d5fa3ed74"
      },
      "source": [
        "print(model.get_weights())"
      ],
      "execution_count": 11,
      "outputs": [
        {
          "output_type": "stream",
          "text": [
            "[array([[1.7984389]], dtype=float32), array([31.896137], dtype=float32)]\n"
          ],
          "name": "stdout"
        }
      ]
    }
  ]
}